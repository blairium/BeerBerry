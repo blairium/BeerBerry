{
 "cells": [
  {
   "cell_type": "code",
   "execution_count": 1,
   "metadata": {},
   "outputs": [],
   "source": [
    "import PyAnalyse as pa #import PyAnalyse\n",
    "import matplotlib.pyplot as plt #For plotting\n",
    "import csv\n",
    "import datetime\n",
    "import inspect, re\n",
    "import os\n",
    "rootdir = r'_FULL_FOLDER_LOCATION_HERE_'#Add the full location of folder where your data is e.g C:\\Users\\blair\\OneDrive - LA TROBE UNIVERSITY (1)\\Documents\\Beer_Berry_testing\\02022021\n",
    "fig_path =  os.path.abspath(r'C:\\Users\\blair\\OneDrive - LA TROBE UNIVERSITY (1)\\Documents\\Beer_Berry_testing\\02022021\\Figures')\n",
    "results_path = os.path.abspath(r'C:\\Users\\blair\\OneDrive - LA TROBE UNIVERSITY (1)\\Documents\\Beer_Berry_testing\\02022021\\Results')\n"
   ]
  },
  {
   "cell_type": "code",
   "execution_count": null,
   "metadata": {},
   "outputs": [],
   "source": [
    "sample = pa.analyse('FeCOOH_0_2mM_S1.csv') #File to analyse\n",
    "\n",
    "### Variables that can be changed\n",
    "sample.freq_pert = 140;                # Frequency perturbation \n",
    "sample.sec_har_bw = 10;               # Band-width window \n",
    "sample.lpf_bw = 10;                   # env lpf bandwidth\n",
    "sample.har_num = 2;                   # harmonic to use (normally 2)\n",
    "\n",
    "sample.blank_samples = 8000;          # set first samples to zero\n",
    "\n",
    "sample.max_time = 1.5;                # Maximum time\n",
    "sample.max_width = 0.2;                 \n",
    "\n",
    "sample.sample_rate = 8000.0;          # sample rate\n",
    "####\n",
    "\n",
    "x,y,ienv_filtered = sample.analyse() #PyAnalyse returns two values, x for time, y for current\n",
    "ienv = ienv_filtered\n",
    "\n",
    "plt.plot(x,y)\n",
    "plt.show()\n",
    "\n",
    "print(max(ienv[0:32800]), max(ienv[32800:72000]))"
   ]
  },
  {
   "cell_type": "code",
   "execution_count": null,
   "metadata": {},
   "outputs": [],
   "source": [
    "samples = ['FeCOOH_1mM_S1.csv', 'FeCOOH_0_8mM_S1.csv','FeCOOH_0_4mM_S1.csv','FeCOOH_0_2mM_S1.csv']\n",
    "for x in samples:\n",
    "\n",
    "\n",
    "    sample = pa.analyse(x)\n",
    "    sample.freq_pert = 140;                # Frequency perturbation \n",
    "    sample.sec_har_bw = 10;               # Band-width window \n",
    "    sample.lpf_bw = 10;                   # env lpf bandwidth\n",
    "    sample.har_num = 2;                   # harmonic to use (normally 2)\n",
    "\n",
    "    sample.blank_samples = 8000;          # set first samples to zero\n",
    "\n",
    "    sample.max_time = 1.5;                # Maximum time\n",
    "    sample.max_width = 0.2;                 \n",
    "\n",
    "    sample.sample_rate = 8000.0;          # sample rate\n",
    "    ####\n",
    "\n",
    "    x,y,ienv_filtered = sample.analyse() #PyAnalyse returns two values, x for time, y for current\n",
    "    ienv = ienv_filtered\n",
    "    date = datetime.datetime.now().strftime(\"%Y_%m_%d_%H_%M\")\n",
    "    with open(str(date)+'_ferrocene_data.csv', mode='a', newline='') as ferrocene_file:\n",
    "         ferrocene_writer = csv.writer(ferrocene_file, delimiter=',', quotechar='\"', quoting=csv.QUOTE_MINIMAL)\n",
    "    \n",
    "         ferrocene_writer.writerow([str(sample.filename),max(ienv[0:32800]), max(ienv[32800:72000]) ])  \n",
    "\n",
    "    plt.legend(loc='upper left')\n",
    "    plt.plot(x,y, label=sample.filename)\n",
    "plt.show()\n",
    "    \n",
    "    "
   ]
  },
  {
   "cell_type": "code",
   "execution_count": null,
   "metadata": {},
   "outputs": [],
   "source": [
    "for x in samples:\n",
    "    print(str(x))"
   ]
  },
  {
   "cell_type": "code",
   "execution_count": null,
   "metadata": {},
   "outputs": [],
   "source": [
    "for subdir, dirs, files in os.walk(rootdir):\n",
    "    for file in files:\n",
    "        if file.endswith((\"ferrocene_data.csv\")):\n",
    "            pass\n",
    "        \n",
    "        elif file.endswith((\".csv\")):\n",
    "                    sample = pa.analyse(file)\n",
    "                    sample.freq_pert = 140;                # Frequency perturbation \n",
    "                    sample.sec_har_bw = 10;               # Band-width window \n",
    "                    sample.lpf_bw = 10;                   # env lpf bandwidth\n",
    "                    sample.har_num = 2;                   # harmonic to use (normally 2)\n",
    "\n",
    "                    sample.blank_samples = 8000;          # set first samples to zero\n",
    "\n",
    "                    sample.max_time = 1.5;                # Maximum time\n",
    "                    sample.max_width = 0.2;                 \n",
    "\n",
    "                    sample.sample_rate = 8000.0;          # sample rate\n",
    "                    ####\n",
    "\n",
    "                    x,y,ienv_filtered = sample.analyse() #PyAnalyse returns two values, x for time, y for current\n",
    "                    ienv = ienv_filtered\n",
    "                    date = datetime.datetime.now().strftime(\"%Y_%m_%d_%H_%M\")\n",
    "                    with open(str(date)+'_ferrocene_data.csv', mode='a', newline='') as ferrocene_file:\n",
    "                         ferrocene_writer = csv.writer(ferrocene_file, delimiter=',', quotechar='\"', quoting=csv.QUOTE_MINIMAL)\n",
    "\n",
    "                         ferrocene_writer.writerow([str(sample.filename),max(ienv[0:32800]), max(ienv[32800:72000]) ])  \n",
    "\n",
    "                    plt.legend(loc='upper right', fontsize=8)\n",
    "http://localhost:8888/notebooks/OneDrive%20-%20LA%20TROBE%20UNIVERSITY%20(1)/Documents/Beer_Berry_testing/02022021/Results_02_02_21.ipynb#                    plt.plot(x,y, label=sample.filename)\n",
    "plt.savefig(str(date)+'_FeCOOH_testing.png', dpi=500)\n",
    "plt.show()\n",
    "                \n",
    "       "
   ]
  },
  {
   "cell_type": "code",
   "execution_count": 4,
   "metadata": {},
   "outputs": [],
   "source": []
  },
  {
   "cell_type": "code",
   "execution_count": null,
   "metadata": {},
   "outputs": [],
   "source": []
  }
 ],
 "metadata": {
  "kernelspec": {
   "display_name": "Python 3",
   "language": "python",
   "name": "python3"
  },
  "language_info": {
   "codemirror_mode": {
    "name": "ipython",
    "version": 3
   },
   "file_extension": ".py",
   "mimetype": "text/x-python",
   "name": "python",
   "nbconvert_exporter": "python",
   "pygments_lexer": "ipython3",
   "version": "3.7.6"
  }
 },
 "nbformat": 4,
 "nbformat_minor": 4
}
